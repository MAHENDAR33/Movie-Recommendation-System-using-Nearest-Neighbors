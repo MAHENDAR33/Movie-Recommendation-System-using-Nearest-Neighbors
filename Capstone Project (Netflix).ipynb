{
  "nbformat": 4,
  "nbformat_minor": 0,
  "metadata": {
    "colab": {
      "provenance": []
    },
    "kernelspec": {
      "name": "python3",
      "display_name": "Python 3"
    },
    "language_info": {
      "name": "python"
    }
  },
  "cells": [
    {
      "cell_type": "code",
      "execution_count": 5,
      "metadata": {
        "colab": {
          "base_uri": "https://localhost:8080/"
        },
        "id": "llxYk82LfCLf",
        "outputId": "a4ebd0ef-15c8-442e-889a-c84958593c33"
      },
      "outputs": [
        {
          "output_type": "stream",
          "name": "stdout",
          "text": [
            "Movies Data Columns: Index(['ID', 'Year', 'Movie Name'], dtype='object')\n",
            "Recommendations for Dinosaur Planet: ['Dinosaur Planet', 'Dinosaur', 'What Planet Are You From?', 'The Man from Planet X', 'Red Planet']\n"
          ]
        }
      ],
      "source": [
        "import pandas as pd\n",
        "import numpy as np\n",
        "import matplotlib.pyplot as plt\n",
        "import seaborn as sns\n",
        "from sklearn.model_selection import train_test_split\n",
        "from sklearn.metrics import accuracy_score\n",
        "from sklearn.feature_extraction.text import TfidfVectorizer\n",
        "from sklearn.neighbors import NearestNeighbors\n",
        "\n",
        "# Load dataset with proper encoding and error handling\n",
        "try:\n",
        "    movies_data = pd.read_csv(\"/content/movie_titles.csv\", encoding='utf-8', on_bad_lines='skip', header=None)\n",
        "except UnicodeDecodeError:\n",
        "    movies_data = pd.read_csv(\"/content/movie_titles.csv\", encoding='latin1', on_bad_lines='skip', header=None)\n",
        "\n",
        "# Assign proper column names\n",
        "movies_data.columns = ['ID', 'Year', 'Movie Name']\n",
        "\n",
        "# Display column names to verify structure\n",
        "print(\"Movies Data Columns:\", movies_data.columns)\n",
        "\n",
        "# Data Preprocessing\n",
        "movies_data.dropna(inplace=True)\n",
        "\n",
        "# Creating a Recommendation Model\n",
        "vectorizer = TfidfVectorizer(stop_words='english')\n",
        "X = vectorizer.fit_transform(movies_data['Movie Name'])\n",
        "\n",
        "# Using Nearest Neighbors for Recommendations\n",
        "model = NearestNeighbors(n_neighbors=5, metric='cosine')\n",
        "model.fit(X)\n",
        "\n",
        "def recommend_movie(movie_name):\n",
        "    idx = movies_data[movies_data['Movie Name'] == movie_name].index[0]\n",
        "    distances, indices = model.kneighbors(X[idx], n_neighbors=5)\n",
        "    recommendations = movies_data.iloc[indices[0]]['Movie Name'].tolist()\n",
        "    return recommendations\n",
        "\n",
        "# Example recommendation\n",
        "sample_movie = movies_data['Movie Name'].iloc[0]\n",
        "print(f\"Recommendations for {sample_movie}: {recommend_movie(sample_movie)}\")\n"
      ]
    },
    {
      "cell_type": "code",
      "source": [],
      "metadata": {
        "id": "sYK3F0cOfQqA"
      },
      "execution_count": null,
      "outputs": []
    }
  ]
}